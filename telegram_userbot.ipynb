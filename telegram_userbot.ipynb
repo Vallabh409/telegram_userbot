{
  "cells": [
    {
      "cell_type": "code",
      "execution_count": 1,
      "metadata": {
        "colab": {
          "base_uri": "https://localhost:8080/"
        },
        "id": "YAgYbMvF4AlC",
        "outputId": "f005aa5d-8b66-4e32-b99c-39f09889d47a"
      },
      "outputs": [
        {
          "output_type": "stream",
          "name": "stdout",
          "text": [
            "Collecting telethon\n",
            "  Downloading Telethon-1.40.0-py3-none-any.whl.metadata (3.9 kB)\n",
            "Collecting pyaes (from telethon)\n",
            "  Downloading pyaes-1.6.1.tar.gz (28 kB)\n",
            "  Preparing metadata (setup.py) ... \u001b[?25l\u001b[?25hdone\n",
            "Requirement already satisfied: rsa in /usr/local/lib/python3.11/dist-packages (from telethon) (4.9.1)\n",
            "Requirement already satisfied: pyasn1>=0.1.3 in /usr/local/lib/python3.11/dist-packages (from rsa->telethon) (0.6.1)\n",
            "Downloading Telethon-1.40.0-py3-none-any.whl (722 kB)\n",
            "\u001b[2K   \u001b[90m━━━━━━━━━━━━━━━━━━━━━━━━━━━━━━━━━━━━━━━━\u001b[0m \u001b[32m722.0/722.0 kB\u001b[0m \u001b[31m11.2 MB/s\u001b[0m eta \u001b[36m0:00:00\u001b[0m\n",
            "\u001b[?25hBuilding wheels for collected packages: pyaes\n",
            "  Building wheel for pyaes (setup.py) ... \u001b[?25l\u001b[?25hdone\n",
            "  Created wheel for pyaes: filename=pyaes-1.6.1-py3-none-any.whl size=26347 sha256=c9fabbc8d58057200c7d430b392c06b50303494593e6b04839ab8960d9dbf3d9\n",
            "  Stored in directory: /root/.cache/pip/wheels/4e/52/33/010d0843550bffb6a591b11629070ae140c0ad4f53e68a3bd3\n",
            "Successfully built pyaes\n",
            "Installing collected packages: pyaes, telethon\n",
            "Successfully installed pyaes-1.6.1 telethon-1.40.0\n"
          ]
        }
      ],
      "source": [
        "!pip install telethon\n",
        "\n"
      ]
    },
    {
      "cell_type": "code",
      "execution_count": 2,
      "metadata": {
        "colab": {
          "base_uri": "https://localhost:8080/"
        },
        "id": "p4lJ9IT_lxnZ",
        "outputId": "8f9310ee-6abf-4ec1-f123-35320efe624e"
      },
      "outputs": [
        {
          "output_type": "stream",
          "name": "stdout",
          "text": [
            "Requirement already satisfied: nest_asyncio in /usr/local/lib/python3.11/dist-packages (1.6.0)\n"
          ]
        }
      ],
      "source": [
        "!pip install nest_asyncio\n"
      ]
    },
    {
      "cell_type": "code",
      "execution_count": null,
      "metadata": {
        "colab": {
          "base_uri": "https://localhost:8080/"
        },
        "id": "CEf890JJlAtT",
        "outputId": "b5c200f7-38a9-4c0a-9129-aed2cadd9fce"
      },
      "outputs": [
        {
          "output_type": "stream",
          "name": "stdout",
          "text": [
            "Please enter the code you received: 10374\n",
            "Signed in successfully as Vallabh🎫; remember to not break the ToS or you will risk an account ban!\n"
          ]
        }
      ],
      "source": [
        "import nest_asyncio\n",
        "import asyncio\n",
        "from telethon import TelegramClient, events\n",
        "import logging\n",
        "\n",
        "nest_asyncio.apply()\n",
        "\n",
        "# Your API details\n",
        "api_id = 24909916\n",
        "api_hash = 'b1f7bb86c951abd5cab41978ce8fb9d0'\n",
        "phone_number = '+918247403365'\n",
        "\n",
        "# Set up logging\n",
        "logging.basicConfig(level=logging.INFO)\n",
        "logger = logging.getLogger(__name__)\n",
        "\n",
        "# Create Telegram client\n",
        "client = TelegramClient('session_name', api_id, api_hash)\n",
        "\n",
        "# URLs and usernames to replace\n",
        "replacements = {\n",
        "    \"http://www.tashanwin.win/#/register?invitationCode=43471166500\":\n",
        "        \"https://www.tashanwin.org/#/register?invitationCode=31415102556\",\n",
        "    \"https://www.66lottery51.com/#/pages/login/register?invitationCode=5099974820\":\n",
        "        \"https://www.66lottery51.com/#/pages/login/register?invitationCode=8905908869\",\n",
        "    \"@Calvinrase\": \"@Commnmanyt\",\n",
        "    \"@ivanadarwish03\": \"@Commnmanyt\",\n",
        "}\n",
        "\n",
        "# Channels to listen and forward\n",
        "channels = [\n",
        "    ('Tashangamesoficial', ['LUNA_Tashanoffical', 'TashanofficialGroup']),  # Two target groups\n",
        "    ('thelimitlessprediction', ['commonmanyt']),\n",
        "]\n",
        "\n",
        "def replace_content_in_message(message_text):\n",
        "    for old, new in replacements.items():\n",
        "        message_text = message_text.replace(old, new)\n",
        "    return message_text\n",
        "\n",
        "def format_message(message_text):\n",
        "    message_text = f\"✨ {message_text} ✨\"\n",
        "    message_text = f\"**Premium Offer**\\n\\n{message_text}\\n\\n__Don't miss out!__\"\n",
        "    for old, new in replacements.items():\n",
        "        if new in message_text and new.startswith(\"http\"):\n",
        "            message_text = message_text.replace(\n",
        "                new, f\"[Register Now\\\\!]({new})\"\n",
        "            )\n",
        "    return message_text\n",
        "\n",
        "async def forward_message(event, source_channel, target_channels):\n",
        "    try:\n",
        "        # Check if the message has text (could be caption also)\n",
        "        if event.message.message:\n",
        "            updated_message = replace_content_in_message(event.message.message)\n",
        "            formatted_message = format_message(updated_message)\n",
        "\n",
        "            # If there is media (photo/video/doc), send it with new caption\n",
        "            if event.message.media:\n",
        "                for target_channel in target_channels:\n",
        "                    await client.send_file(\n",
        "                        target_channel,\n",
        "                        file=event.message.media,\n",
        "                        caption=formatted_message,\n",
        "                        parse_mode='markdown'\n",
        "                    )\n",
        "                    logger.info(f\"Forwarded media with new caption from {source_channel} ➔ {target_channel}\")\n",
        "\n",
        "            else:\n",
        "                # No media, just text\n",
        "                for target_channel in target_channels:\n",
        "                    await client.send_message(\n",
        "                        target_channel,\n",
        "                        formatted_message,\n",
        "                        parse_mode='markdown'\n",
        "                    )\n",
        "                    logger.info(f\"Forwarded formatted text from {source_channel} ➔ {target_channel}\")\n",
        "\n",
        "        else:\n",
        "            # No text/caption, only media (e.g., sticker, gif, file)\n",
        "            if event.message.media:\n",
        "                for target_channel in target_channels:\n",
        "                    await client.send_file(\n",
        "                        target_channel,\n",
        "                        file=event.message.media\n",
        "                    )\n",
        "                    logger.info(f\"Forwarded pure media (no caption) from {source_channel} ➔ {target_channel}\")\n",
        "\n",
        "    except Exception as e:\n",
        "        logger.error(f\"Error forwarding message: {e}\")\n",
        "\n",
        "async def listen_for_messages():\n",
        "    try:\n",
        "        await client.start(phone=phone_number)\n",
        "        logger.info(\"Logged in successfully.\")\n",
        "\n",
        "        for source_channel, target_channels in channels:\n",
        "            @client.on(events.NewMessage(chats=source_channel))\n",
        "            async def handler(event, source_channel=source_channel, target_channels=target_channels):\n",
        "                await forward_message(event, source_channel, target_channels)\n",
        "\n",
        "        logger.info(\"Listening for new messages...\")\n",
        "        await client.run_until_disconnected()\n",
        "\n",
        "    except Exception as e:\n",
        "        logger.error(f\"Connection error: {e}\")\n",
        "        logger.info(\"Retrying in 5 seconds...\")\n",
        "        await asyncio.sleep(5)\n",
        "\n",
        "client.loop.run_until_complete(listen_for_messages())\n"
      ]
    },
    {
      "cell_type": "code",
      "execution_count": null,
      "metadata": {
        "id": "7PQmJynUl1uU"
      },
      "outputs": [],
      "source": []
    }
  ],
  "metadata": {
    "colab": {
      "provenance": []
    },
    "kernelspec": {
      "display_name": "Python 3",
      "name": "python3"
    },
    "language_info": {
      "name": "python"
    }
  },
  "nbformat": 4,
  "nbformat_minor": 0
}